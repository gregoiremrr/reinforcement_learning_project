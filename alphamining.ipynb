{
 "cells": [
  {
   "cell_type": "code",
   "execution_count": 7,
   "metadata": {},
   "outputs": [
    {
     "name": "stderr",
     "output_type": "stream",
     "text": [
      "[*********************100%***********************]  1 of 1 completed"
     ]
    },
    {
     "name": "stdout",
     "output_type": "stream",
     "text": [
      "Fetching data for AAL.L...\n"
     ]
    },
    {
     "name": "stderr",
     "output_type": "stream",
     "text": [
      "\n",
      "[*********************100%***********************]  1 of 1 completed"
     ]
    },
    {
     "name": "stdout",
     "output_type": "stream",
     "text": [
      "Fetching data for ABF.L...\n"
     ]
    },
    {
     "name": "stderr",
     "output_type": "stream",
     "text": [
      "\n",
      "[*********************100%***********************]  1 of 1 completed"
     ]
    },
    {
     "name": "stdout",
     "output_type": "stream",
     "text": [
      "Fetching data for ADM.L...\n"
     ]
    },
    {
     "name": "stderr",
     "output_type": "stream",
     "text": [
      "\n",
      "[*********************100%***********************]  1 of 1 completed"
     ]
    },
    {
     "name": "stdout",
     "output_type": "stream",
     "text": [
      "Fetching data for AHT.L...\n"
     ]
    },
    {
     "name": "stderr",
     "output_type": "stream",
     "text": [
      "\n",
      "[*********************100%***********************]  1 of 1 completed"
     ]
    },
    {
     "name": "stdout",
     "output_type": "stream",
     "text": [
      "Fetching data for ANTO.L...\n"
     ]
    },
    {
     "name": "stderr",
     "output_type": "stream",
     "text": [
      "\n",
      "[*********************100%***********************]  1 of 1 completed"
     ]
    },
    {
     "name": "stdout",
     "output_type": "stream",
     "text": [
      "Fetching data for AUTO.L...\n"
     ]
    },
    {
     "name": "stderr",
     "output_type": "stream",
     "text": [
      "\n",
      "[*********************100%***********************]  1 of 1 completed"
     ]
    },
    {
     "name": "stdout",
     "output_type": "stream",
     "text": [
      "Fetching data for AV.L...\n"
     ]
    },
    {
     "name": "stderr",
     "output_type": "stream",
     "text": [
      "\n",
      "[*********************100%***********************]  1 of 1 completed"
     ]
    },
    {
     "name": "stdout",
     "output_type": "stream",
     "text": [
      "Fetching data for AZN.L...\n"
     ]
    },
    {
     "name": "stderr",
     "output_type": "stream",
     "text": [
      "\n",
      "[*********************100%***********************]  1 of 1 completed"
     ]
    },
    {
     "name": "stdout",
     "output_type": "stream",
     "text": [
      "Fetching data for BA.L...\n"
     ]
    },
    {
     "name": "stderr",
     "output_type": "stream",
     "text": [
      "\n",
      "[*********************100%***********************]  1 of 1 completed"
     ]
    },
    {
     "name": "stdout",
     "output_type": "stream",
     "text": [
      "Fetching data for BARC.L...\n"
     ]
    },
    {
     "name": "stderr",
     "output_type": "stream",
     "text": [
      "\n",
      "[*********************100%***********************]  1 of 1 completed"
     ]
    },
    {
     "name": "stdout",
     "output_type": "stream",
     "text": [
      "Fetching data for BATS.L...\n"
     ]
    },
    {
     "name": "stderr",
     "output_type": "stream",
     "text": [
      "\n",
      "[*********************100%***********************]  1 of 1 completed\n",
      "\n",
      "1 Failed download:\n",
      "['BDEV.L']: YFTzMissingError('possibly delisted; no timezone found')\n"
     ]
    },
    {
     "name": "stdout",
     "output_type": "stream",
     "text": [
      "Fetching data for BDEV.L...\n",
      "⚠️ No data found for BDEV.L\n"
     ]
    },
    {
     "name": "stderr",
     "output_type": "stream",
     "text": [
      "[*********************100%***********************]  1 of 1 completed"
     ]
    },
    {
     "name": "stdout",
     "output_type": "stream",
     "text": [
      "Fetching data for BP.L...\n"
     ]
    },
    {
     "name": "stderr",
     "output_type": "stream",
     "text": [
      "\n",
      "[*********************100%***********************]  1 of 1 completed"
     ]
    },
    {
     "name": "stdout",
     "output_type": "stream",
     "text": [
      "Fetching data for BKG.L...\n"
     ]
    },
    {
     "name": "stderr",
     "output_type": "stream",
     "text": [
      "\n",
      "[*********************100%***********************]  1 of 1 completed"
     ]
    },
    {
     "name": "stdout",
     "output_type": "stream",
     "text": [
      "Fetching data for BLND.L...\n"
     ]
    },
    {
     "name": "stderr",
     "output_type": "stream",
     "text": [
      "\n"
     ]
    },
    {
     "name": "stdout",
     "output_type": "stream",
     "text": [
      "Fetching data for BT.A.L...\n"
     ]
    },
    {
     "name": "stderr",
     "output_type": "stream",
     "text": [
      "[*********************100%***********************]  1 of 1 completed\n",
      "\n",
      "1 Failed download:\n",
      "['BT.A.L']: YFTzMissingError('possibly delisted; no timezone found')\n"
     ]
    },
    {
     "name": "stdout",
     "output_type": "stream",
     "text": [
      "⚠️ No data found for BT.A.L\n"
     ]
    },
    {
     "name": "stderr",
     "output_type": "stream",
     "text": [
      "[*********************100%***********************]  1 of 1 completed"
     ]
    },
    {
     "name": "stdout",
     "output_type": "stream",
     "text": [
      "Fetching data for CCL.L...\n"
     ]
    },
    {
     "name": "stderr",
     "output_type": "stream",
     "text": [
      "\n"
     ]
    },
    {
     "name": "stdout",
     "output_type": "stream",
     "text": [
      "Fetching data for CNA.L...\n"
     ]
    },
    {
     "name": "stderr",
     "output_type": "stream",
     "text": [
      "[*********************100%***********************]  1 of 1 completed\n"
     ]
    },
    {
     "name": "stdout",
     "output_type": "stream",
     "text": [
      "Fetching data for CRDA.L...\n"
     ]
    },
    {
     "name": "stderr",
     "output_type": "stream",
     "text": [
      "[*********************100%***********************]  1 of 1 completed\n"
     ]
    },
    {
     "name": "stdout",
     "output_type": "stream",
     "text": [
      "Fetching data for DCC.L...\n"
     ]
    },
    {
     "name": "stderr",
     "output_type": "stream",
     "text": [
      "[*********************100%***********************]  1 of 1 completed\n"
     ]
    },
    {
     "name": "stdout",
     "output_type": "stream",
     "text": [
      "Fetching data for DGE.L...\n"
     ]
    },
    {
     "name": "stderr",
     "output_type": "stream",
     "text": [
      "[*********************100%***********************]  1 of 1 completed\n",
      "[*********************100%***********************]  1 of 1 completed"
     ]
    },
    {
     "name": "stdout",
     "output_type": "stream",
     "text": [
      "Fetching data for ENT.L...\n"
     ]
    },
    {
     "name": "stderr",
     "output_type": "stream",
     "text": [
      "\n",
      "[*********************100%***********************]  1 of 1 completed"
     ]
    },
    {
     "name": "stdout",
     "output_type": "stream",
     "text": [
      "Fetching data for EVR.L...\n"
     ]
    },
    {
     "name": "stderr",
     "output_type": "stream",
     "text": [
      "\n",
      "[*********************100%***********************]  1 of 1 completed"
     ]
    },
    {
     "name": "stdout",
     "output_type": "stream",
     "text": [
      "Fetching data for EXPN.L...\n"
     ]
    },
    {
     "name": "stderr",
     "output_type": "stream",
     "text": [
      "\n"
     ]
    },
    {
     "name": "stdout",
     "output_type": "stream",
     "text": [
      "Fetching data for FERG.L...\n"
     ]
    },
    {
     "name": "stderr",
     "output_type": "stream",
     "text": [
      "[*********************100%***********************]  1 of 1 completed\n",
      "[*********************100%***********************]  1 of 1 completed"
     ]
    },
    {
     "name": "stdout",
     "output_type": "stream",
     "text": [
      "Fetching data for FLTR.L...\n"
     ]
    },
    {
     "name": "stderr",
     "output_type": "stream",
     "text": [
      "\n",
      "[*********************100%***********************]  1 of 1 completed"
     ]
    },
    {
     "name": "stdout",
     "output_type": "stream",
     "text": [
      "Fetching data for GLEN.L...\n"
     ]
    },
    {
     "name": "stderr",
     "output_type": "stream",
     "text": [
      "\n"
     ]
    },
    {
     "name": "stdout",
     "output_type": "stream",
     "text": [
      "Fetching data for GSK.L...\n"
     ]
    },
    {
     "name": "stderr",
     "output_type": "stream",
     "text": [
      "[*********************100%***********************]  1 of 1 completed\n",
      "[*********************100%***********************]  1 of 1 completed"
     ]
    },
    {
     "name": "stdout",
     "output_type": "stream",
     "text": [
      "Fetching data for HLN.L...\n"
     ]
    },
    {
     "name": "stderr",
     "output_type": "stream",
     "text": [
      "\n"
     ]
    },
    {
     "name": "stdout",
     "output_type": "stream",
     "text": [
      "Fetching data for HSBA.L...\n"
     ]
    },
    {
     "name": "stderr",
     "output_type": "stream",
     "text": [
      "[*********************100%***********************]  1 of 1 completed\n"
     ]
    },
    {
     "name": "stdout",
     "output_type": "stream",
     "text": [
      "Fetching data for IMB.L...\n"
     ]
    },
    {
     "name": "stderr",
     "output_type": "stream",
     "text": [
      "[*********************100%***********************]  1 of 1 completed\n"
     ]
    },
    {
     "name": "stdout",
     "output_type": "stream",
     "text": [
      "Fetching data for INF.L...\n"
     ]
    },
    {
     "name": "stderr",
     "output_type": "stream",
     "text": [
      "[*********************100%***********************]  1 of 1 completed\n"
     ]
    },
    {
     "name": "stdout",
     "output_type": "stream",
     "text": [
      "Fetching data for ITRK.L...\n"
     ]
    },
    {
     "name": "stderr",
     "output_type": "stream",
     "text": [
      "[*********************100%***********************]  1 of 1 completed\n"
     ]
    },
    {
     "name": "stdout",
     "output_type": "stream",
     "text": [
      "Fetching data for JD.L...\n"
     ]
    },
    {
     "name": "stderr",
     "output_type": "stream",
     "text": [
      "[*********************100%***********************]  1 of 1 completed\n"
     ]
    },
    {
     "name": "stdout",
     "output_type": "stream",
     "text": [
      "Fetching data for JET.L...\n"
     ]
    },
    {
     "name": "stderr",
     "output_type": "stream",
     "text": [
      "[*********************100%***********************]  1 of 1 completed\n",
      "\n",
      "1 Failed download:\n",
      "['JET.L']: YFPricesMissingError('possibly delisted; no price data found  (1d 2010-01-01 -> 2025-02-16) (Yahoo error = \"No data found, symbol may be delisted\")')\n"
     ]
    },
    {
     "name": "stdout",
     "output_type": "stream",
     "text": [
      "⚠️ No data found for JET.L\n",
      "Fetching data for KGF.L...\n"
     ]
    },
    {
     "name": "stderr",
     "output_type": "stream",
     "text": [
      "[*********************100%***********************]  1 of 1 completed\n"
     ]
    },
    {
     "name": "stdout",
     "output_type": "stream",
     "text": [
      "Fetching data for LGEN.L...\n"
     ]
    },
    {
     "name": "stderr",
     "output_type": "stream",
     "text": [
      "[*********************100%***********************]  1 of 1 completed\n",
      "[*********************100%***********************]  1 of 1 completed"
     ]
    },
    {
     "name": "stdout",
     "output_type": "stream",
     "text": [
      "Fetching data for LLOY.L...\n"
     ]
    },
    {
     "name": "stderr",
     "output_type": "stream",
     "text": [
      "\n"
     ]
    },
    {
     "name": "stdout",
     "output_type": "stream",
     "text": [
      "Fetching data for LSEG.L...\n"
     ]
    },
    {
     "name": "stderr",
     "output_type": "stream",
     "text": [
      "[*********************100%***********************]  1 of 1 completed\n",
      "[*********************100%***********************]  1 of 1 completed"
     ]
    },
    {
     "name": "stdout",
     "output_type": "stream",
     "text": [
      "Fetching data for MNG.L...\n"
     ]
    },
    {
     "name": "stderr",
     "output_type": "stream",
     "text": [
      "\n"
     ]
    },
    {
     "name": "stdout",
     "output_type": "stream",
     "text": [
      "Fetching data for MKS.L...\n"
     ]
    },
    {
     "name": "stderr",
     "output_type": "stream",
     "text": [
      "[*********************100%***********************]  1 of 1 completed\n"
     ]
    },
    {
     "name": "stdout",
     "output_type": "stream",
     "text": [
      "Fetching data for NG.L...\n"
     ]
    },
    {
     "name": "stderr",
     "output_type": "stream",
     "text": [
      "[*********************100%***********************]  1 of 1 completed\n"
     ]
    },
    {
     "name": "stdout",
     "output_type": "stream",
     "text": [
      "Fetching data for NXT.L...\n"
     ]
    },
    {
     "name": "stderr",
     "output_type": "stream",
     "text": [
      "[*********************100%***********************]  1 of 1 completed\n"
     ]
    },
    {
     "name": "stdout",
     "output_type": "stream",
     "text": [
      "Fetching data for PSN.L...\n"
     ]
    },
    {
     "name": "stderr",
     "output_type": "stream",
     "text": [
      "[*********************100%***********************]  1 of 1 completed\n",
      "[*********************100%***********************]  1 of 1 completed"
     ]
    },
    {
     "name": "stdout",
     "output_type": "stream",
     "text": [
      "Fetching data for PSON.L...\n"
     ]
    },
    {
     "name": "stderr",
     "output_type": "stream",
     "text": [
      "\n"
     ]
    },
    {
     "name": "stdout",
     "output_type": "stream",
     "text": [
      "Fetching data for PRU.L...\n"
     ]
    },
    {
     "name": "stderr",
     "output_type": "stream",
     "text": [
      "[*********************100%***********************]  1 of 1 completed\n",
      "[*********************100%***********************]  1 of 1 completed"
     ]
    },
    {
     "name": "stdout",
     "output_type": "stream",
     "text": [
      "Fetching data for RKT.L...\n"
     ]
    },
    {
     "name": "stderr",
     "output_type": "stream",
     "text": [
      "\n",
      "[*********************100%***********************]  1 of 1 completed"
     ]
    },
    {
     "name": "stdout",
     "output_type": "stream",
     "text": [
      "Fetching data for RIO.L...\n"
     ]
    },
    {
     "name": "stderr",
     "output_type": "stream",
     "text": [
      "\n",
      "[*********************100%***********************]  1 of 1 completed"
     ]
    },
    {
     "name": "stdout",
     "output_type": "stream",
     "text": [
      "Fetching data for RMV.L...\n"
     ]
    },
    {
     "name": "stderr",
     "output_type": "stream",
     "text": [
      "\n",
      "[*********************100%***********************]  1 of 1 completed"
     ]
    },
    {
     "name": "stdout",
     "output_type": "stream",
     "text": [
      "Fetching data for RR.L...\n"
     ]
    },
    {
     "name": "stderr",
     "output_type": "stream",
     "text": [
      "\n"
     ]
    },
    {
     "name": "stdout",
     "output_type": "stream",
     "text": [
      "Fetching data for RTO.L...\n"
     ]
    },
    {
     "name": "stderr",
     "output_type": "stream",
     "text": [
      "[*********************100%***********************]  1 of 1 completed\n"
     ]
    },
    {
     "name": "stdout",
     "output_type": "stream",
     "text": [
      "Fetching data for SGE.L...\n"
     ]
    },
    {
     "name": "stderr",
     "output_type": "stream",
     "text": [
      "[*********************100%***********************]  1 of 1 completed\n"
     ]
    },
    {
     "name": "stdout",
     "output_type": "stream",
     "text": [
      "Fetching data for SHEL.L...\n"
     ]
    },
    {
     "name": "stderr",
     "output_type": "stream",
     "text": [
      "[*********************100%***********************]  1 of 1 completed\n"
     ]
    },
    {
     "name": "stdout",
     "output_type": "stream",
     "text": [
      "Fetching data for SMDS.L...\n"
     ]
    },
    {
     "name": "stderr",
     "output_type": "stream",
     "text": [
      "[*********************100%***********************]  1 of 1 completed\n",
      "[*********************100%***********************]  1 of 1 completed"
     ]
    },
    {
     "name": "stdout",
     "output_type": "stream",
     "text": [
      "Fetching data for SMIN.L...\n"
     ]
    },
    {
     "name": "stderr",
     "output_type": "stream",
     "text": [
      "\n"
     ]
    },
    {
     "name": "stdout",
     "output_type": "stream",
     "text": [
      "Fetching data for SMT.L...\n"
     ]
    },
    {
     "name": "stderr",
     "output_type": "stream",
     "text": [
      "[*********************100%***********************]  1 of 1 completed\n"
     ]
    },
    {
     "name": "stdout",
     "output_type": "stream",
     "text": [
      "Fetching data for SN.L...\n"
     ]
    },
    {
     "name": "stderr",
     "output_type": "stream",
     "text": [
      "[*********************100%***********************]  1 of 1 completed\n"
     ]
    },
    {
     "name": "stdout",
     "output_type": "stream",
     "text": [
      "Fetching data for SPX.L...\n"
     ]
    },
    {
     "name": "stderr",
     "output_type": "stream",
     "text": [
      "[*********************100%***********************]  1 of 1 completed\n",
      "[*********************100%***********************]  1 of 1 completed"
     ]
    },
    {
     "name": "stdout",
     "output_type": "stream",
     "text": [
      "Fetching data for SSE.L...\n"
     ]
    },
    {
     "name": "stderr",
     "output_type": "stream",
     "text": [
      "\n"
     ]
    },
    {
     "name": "stdout",
     "output_type": "stream",
     "text": [
      "Fetching data for STAN.L...\n"
     ]
    },
    {
     "name": "stderr",
     "output_type": "stream",
     "text": [
      "[*********************100%***********************]  1 of 1 completed\n",
      "[*********************100%***********************]  1 of 1 completed"
     ]
    },
    {
     "name": "stdout",
     "output_type": "stream",
     "text": [
      "Fetching data for STJ.L...\n"
     ]
    },
    {
     "name": "stderr",
     "output_type": "stream",
     "text": [
      "\n"
     ]
    },
    {
     "name": "stdout",
     "output_type": "stream",
     "text": [
      "Fetching data for SVT.L...\n"
     ]
    },
    {
     "name": "stderr",
     "output_type": "stream",
     "text": [
      "[*********************100%***********************]  1 of 1 completed\n"
     ]
    },
    {
     "name": "stdout",
     "output_type": "stream",
     "text": [
      "Fetching data for TSCO.L...\n"
     ]
    },
    {
     "name": "stderr",
     "output_type": "stream",
     "text": [
      "[*********************100%***********************]  1 of 1 completed\n",
      "[*********************100%***********************]  1 of 1 completed"
     ]
    },
    {
     "name": "stdout",
     "output_type": "stream",
     "text": [
      "Fetching data for ULVR.L...\n"
     ]
    },
    {
     "name": "stderr",
     "output_type": "stream",
     "text": [
      "\n"
     ]
    },
    {
     "name": "stdout",
     "output_type": "stream",
     "text": [
      "Fetching data for UU.L...\n"
     ]
    },
    {
     "name": "stderr",
     "output_type": "stream",
     "text": [
      "[*********************100%***********************]  1 of 1 completed\n"
     ]
    },
    {
     "name": "stdout",
     "output_type": "stream",
     "text": [
      "Fetching data for VOD.L...\n"
     ]
    },
    {
     "name": "stderr",
     "output_type": "stream",
     "text": [
      "[*********************100%***********************]  1 of 1 completed\n"
     ]
    },
    {
     "name": "stdout",
     "output_type": "stream",
     "text": [
      "Fetching data for WTB.L...\n"
     ]
    },
    {
     "name": "stderr",
     "output_type": "stream",
     "text": [
      "[*********************100%***********************]  1 of 1 completed\n",
      "[*********************100%***********************]  1 of 1 completed"
     ]
    },
    {
     "name": "stdout",
     "output_type": "stream",
     "text": [
      "Fetching data for WPP.L...\n"
     ]
    },
    {
     "name": "stderr",
     "output_type": "stream",
     "text": [
      "\n",
      "[*********************100%***********************]  1 of 1 completed"
     ]
    },
    {
     "name": "stdout",
     "output_type": "stream",
     "text": [
      "Fetching data for ^FTSE...\n"
     ]
    },
    {
     "name": "stderr",
     "output_type": "stream",
     "text": [
      "\n"
     ]
    }
   ],
   "source": [
    "import yfinance as yf\n",
    "import pandas as pd\n",
    "import time\n",
    "\n",
    "# List of FTSE 100 tickers + the FTSE 100 Index (^FTSE) benchmark\n",
    "FTSE100_TICKERS = [\n",
    "    \"AAL.L\", \"ABF.L\", \"ADM.L\", \"AHT.L\", \"ANTO.L\", \"AUTO.L\", \"AV.L\", \"AZN.L\", \"BA.L\", \"BARC.L\",\n",
    "    \"BATS.L\", \"BDEV.L\", \"BP.L\", \"BKG.L\", \"BLND.L\", \"BT.A.L\", \"CCL.L\", \"CNA.L\", \"CRDA.L\", \"DCC.L\",\n",
    "    \"DGE.L\", \"ENT.L\", \"EVR.L\", \"EXPN.L\", \"FERG.L\", \"FLTR.L\", \"GLEN.L\", \"GSK.L\", \"HLN.L\", \"HSBA.L\",\n",
    "    \"IMB.L\", \"INF.L\", \"ITRK.L\", \"JD.L\", \"JET.L\", \"KGF.L\", \"LGEN.L\", \"LLOY.L\", \"LSEG.L\", \"MNG.L\",\n",
    "    \"MKS.L\", \"NG.L\", \"NXT.L\", \"PSN.L\", \"PSON.L\", \"PRU.L\", \"RKT.L\", \"RIO.L\", \"RMV.L\",\n",
    "    \"RR.L\", \"RTO.L\", \"SGE.L\", \"SHEL.L\", \"SMDS.L\", \"SMIN.L\", \"SMT.L\", \"SN.L\", \"SPX.L\", \"SSE.L\",\n",
    "    \"STAN.L\", \"STJ.L\", \"SVT.L\", \"TSCO.L\", \"ULVR.L\", \"UU.L\", \"VOD.L\", \"WTB.L\", \"WPP.L\"\n",
    "]\n",
    "FTSE100_TICKERS.append(\"^FTSE\")  # Add the index benchmark\n",
    "\n",
    "# Initialize an empty DataFrame\n",
    "all_data = pd.DataFrame()\n",
    "\n",
    "def fetch_data(ticker):\n",
    "    print(f\"Fetching data for {ticker}...\")\n",
    "    df = yf.download(ticker, start=\"2010-01-01\", end=\"2025-02-16\")\n",
    "    df.columns = df.columns.droplevel(level=1)\n",
    "    if df.empty:\n",
    "        print(f\"⚠️ No data found for {ticker}\")\n",
    "        return None\n",
    "    # Compute the simple daily VWAP (as the typical price)\n",
    "    df[\"Vwap\"] = (df[\"High\"] + df[\"Low\"] + df[\"Close\"]) / 3.0\n",
    "    # Rename columns to include the ticker in the column names\n",
    "    df.rename(columns={\n",
    "        \"Open\":   f\"{ticker}_Open\",\n",
    "        \"High\":   f\"{ticker}_High\",\n",
    "        \"Low\":    f\"{ticker}_Low\",\n",
    "        \"Close\":  f\"{ticker}_Close\",\n",
    "        \"Volume\": f\"{ticker}_Volume\",\n",
    "        \"Vwap\":   f\"{ticker}_Vwap\"\n",
    "    }, inplace=True)\n",
    "    # Return only the renamed columns\n",
    "    return df[[f\"{ticker}_Open\", f\"{ticker}_High\", f\"{ticker}_Low\",\n",
    "               f\"{ticker}_Close\", f\"{ticker}_Volume\", f\"{ticker}_Vwap\"]]\n",
    "\n",
    "# Loop over tickers, fetch their data, and merge them into one DataFrame\n",
    "for ticker in FTSE100_TICKERS:\n",
    "    stock_data = fetch_data(ticker)\n",
    "    if stock_data is not None:\n",
    "        if all_data.empty:\n",
    "            all_data = stock_data\n",
    "        else:\n",
    "            all_data = all_data.join(stock_data, how=\"outer\")\n",
    "    time.sleep(2)  # Pause to avoid rate limiting\n",
    "\n",
    "# Set the index name to \"Date\" so it’s written in the CSV header properly\n",
    "all_data.index.name = \"Date\"\n",
    "\n",
    "# Ensure all columns are numeric and drop any rows that are completely NaN\n",
    "all_data = all_data.apply(pd.to_numeric, errors=\"coerce\")\n",
    "all_data.dropna(how=\"all\", inplace=True)\n",
    "\n",
    "# Save the DataFrame to CSV without adding an extra header row\n",
    "all_data.to_csv(\"ftse100_data_wide.csv\")"
   ]
  },
  {
   "cell_type": "code",
   "execution_count": 10,
   "metadata": {},
   "outputs": [
    {
     "data": {
      "text/html": [
       "<div>\n",
       "<style scoped>\n",
       "    .dataframe tbody tr th:only-of-type {\n",
       "        vertical-align: middle;\n",
       "    }\n",
       "\n",
       "    .dataframe tbody tr th {\n",
       "        vertical-align: top;\n",
       "    }\n",
       "\n",
       "    .dataframe thead th {\n",
       "        text-align: right;\n",
       "    }\n",
       "</style>\n",
       "<table border=\"1\" class=\"dataframe\">\n",
       "  <thead>\n",
       "    <tr style=\"text-align: right;\">\n",
       "      <th></th>\n",
       "      <th>AAL.L_Open</th>\n",
       "      <th>AAL.L_High</th>\n",
       "      <th>AAL.L_Low</th>\n",
       "      <th>AAL.L_Close</th>\n",
       "      <th>AAL.L_Volume</th>\n",
       "      <th>AAL.L_Vwap</th>\n",
       "      <th>ABF.L_Open</th>\n",
       "      <th>ABF.L_High</th>\n",
       "      <th>ABF.L_Low</th>\n",
       "      <th>ABF.L_Close</th>\n",
       "      <th>...</th>\n",
       "      <th>WPP.L_Low</th>\n",
       "      <th>WPP.L_Close</th>\n",
       "      <th>WPP.L_Volume</th>\n",
       "      <th>WPP.L_Vwap</th>\n",
       "      <th>^FTSE_Open</th>\n",
       "      <th>^FTSE_High</th>\n",
       "      <th>^FTSE_Low</th>\n",
       "      <th>^FTSE_Close</th>\n",
       "      <th>^FTSE_Volume</th>\n",
       "      <th>^FTSE_Vwap</th>\n",
       "    </tr>\n",
       "    <tr>\n",
       "      <th>Date</th>\n",
       "      <th></th>\n",
       "      <th></th>\n",
       "      <th></th>\n",
       "      <th></th>\n",
       "      <th></th>\n",
       "      <th></th>\n",
       "      <th></th>\n",
       "      <th></th>\n",
       "      <th></th>\n",
       "      <th></th>\n",
       "      <th></th>\n",
       "      <th></th>\n",
       "      <th></th>\n",
       "      <th></th>\n",
       "      <th></th>\n",
       "      <th></th>\n",
       "      <th></th>\n",
       "      <th></th>\n",
       "      <th></th>\n",
       "      <th></th>\n",
       "      <th></th>\n",
       "    </tr>\n",
       "  </thead>\n",
       "  <tbody>\n",
       "    <tr>\n",
       "      <th>2010-01-04</th>\n",
       "      <td>2670.318057</td>\n",
       "      <td>2754.028666</td>\n",
       "      <td>2670.318057</td>\n",
       "      <td>2743.626709</td>\n",
       "      <td>4164079</td>\n",
       "      <td>2722.657811</td>\n",
       "      <td>817.560604</td>\n",
       "      <td>824.045221</td>\n",
       "      <td>815.565337</td>\n",
       "      <td>820.054688</td>\n",
       "      <td>...</td>\n",
       "      <td>595.866205</td>\n",
       "      <td>613.772034</td>\n",
       "      <td>2488786.0</td>\n",
       "      <td>608.135013</td>\n",
       "      <td>5412.899902</td>\n",
       "      <td>5500.299805</td>\n",
       "      <td>5410.799805</td>\n",
       "      <td>5500.299805</td>\n",
       "      <td>7.509420e+08</td>\n",
       "      <td>5470.466471</td>\n",
       "    </tr>\n",
       "    <tr>\n",
       "      <th>2010-01-05</th>\n",
       "      <td>2764.926829</td>\n",
       "      <td>2818.422214</td>\n",
       "      <td>2745.608971</td>\n",
       "      <td>2788.702637</td>\n",
       "      <td>3311101</td>\n",
       "      <td>2784.244607</td>\n",
       "      <td>819.555579</td>\n",
       "      <td>820.553212</td>\n",
       "      <td>815.565047</td>\n",
       "      <td>819.056763</td>\n",
       "      <td>...</td>\n",
       "      <td>601.337429</td>\n",
       "      <td>603.326965</td>\n",
       "      <td>4222534.0</td>\n",
       "      <td>606.808654</td>\n",
       "      <td>5500.299805</td>\n",
       "      <td>5536.399902</td>\n",
       "      <td>5480.700195</td>\n",
       "      <td>5522.500000</td>\n",
       "      <td>1.149301e+09</td>\n",
       "      <td>5513.200033</td>\n",
       "    </tr>\n",
       "    <tr>\n",
       "      <th>2010-01-06</th>\n",
       "      <td>2803.562614</td>\n",
       "      <td>2847.151473</td>\n",
       "      <td>2790.683960</td>\n",
       "      <td>2836.749512</td>\n",
       "      <td>4879684</td>\n",
       "      <td>2824.861648</td>\n",
       "      <td>819.056898</td>\n",
       "      <td>822.049798</td>\n",
       "      <td>815.565182</td>\n",
       "      <td>818.059265</td>\n",
       "      <td>...</td>\n",
       "      <td>599.845311</td>\n",
       "      <td>608.300842</td>\n",
       "      <td>3103577.0</td>\n",
       "      <td>605.482332</td>\n",
       "      <td>5522.500000</td>\n",
       "      <td>5536.500000</td>\n",
       "      <td>5497.700195</td>\n",
       "      <td>5530.000000</td>\n",
       "      <td>9.982953e+08</td>\n",
       "      <td>5521.400065</td>\n",
       "    </tr>\n",
       "    <tr>\n",
       "      <th>2010-01-07</th>\n",
       "      <td>2836.254307</td>\n",
       "      <td>2843.684141</td>\n",
       "      <td>2789.198127</td>\n",
       "      <td>2817.431641</td>\n",
       "      <td>4302158</td>\n",
       "      <td>2816.771303</td>\n",
       "      <td>817.560530</td>\n",
       "      <td>843.997814</td>\n",
       "      <td>816.064080</td>\n",
       "      <td>836.515564</td>\n",
       "      <td>...</td>\n",
       "      <td>603.326872</td>\n",
       "      <td>612.279785</td>\n",
       "      <td>2573495.0</td>\n",
       "      <td>609.627070</td>\n",
       "      <td>5530.000000</td>\n",
       "      <td>5551.700195</td>\n",
       "      <td>5499.799805</td>\n",
       "      <td>5526.700195</td>\n",
       "      <td>1.162934e+09</td>\n",
       "      <td>5526.066732</td>\n",
       "    </tr>\n",
       "    <tr>\n",
       "      <th>2010-01-08</th>\n",
       "      <td>2822.385150</td>\n",
       "      <td>2869.936768</td>\n",
       "      <td>2789.198251</td>\n",
       "      <td>2869.936768</td>\n",
       "      <td>3425419</td>\n",
       "      <td>2843.023929</td>\n",
       "      <td>837.014496</td>\n",
       "      <td>851.978998</td>\n",
       "      <td>837.014496</td>\n",
       "      <td>847.988464</td>\n",
       "      <td>...</td>\n",
       "      <td>612.777292</td>\n",
       "      <td>622.724976</td>\n",
       "      <td>5187236.0</td>\n",
       "      <td>619.906465</td>\n",
       "      <td>5526.700195</td>\n",
       "      <td>5549.299805</td>\n",
       "      <td>5494.799805</td>\n",
       "      <td>5534.200195</td>\n",
       "      <td>1.006421e+09</td>\n",
       "      <td>5526.099935</td>\n",
       "    </tr>\n",
       "    <tr>\n",
       "      <th>...</th>\n",
       "      <td>...</td>\n",
       "      <td>...</td>\n",
       "      <td>...</td>\n",
       "      <td>...</td>\n",
       "      <td>...</td>\n",
       "      <td>...</td>\n",
       "      <td>...</td>\n",
       "      <td>...</td>\n",
       "      <td>...</td>\n",
       "      <td>...</td>\n",
       "      <td>...</td>\n",
       "      <td>...</td>\n",
       "      <td>...</td>\n",
       "      <td>...</td>\n",
       "      <td>...</td>\n",
       "      <td>...</td>\n",
       "      <td>...</td>\n",
       "      <td>...</td>\n",
       "      <td>...</td>\n",
       "      <td>...</td>\n",
       "      <td>...</td>\n",
       "    </tr>\n",
       "    <tr>\n",
       "      <th>2025-02-10</th>\n",
       "      <td>2458.500000</td>\n",
       "      <td>2514.500000</td>\n",
       "      <td>2444.000000</td>\n",
       "      <td>2502.500000</td>\n",
       "      <td>1125188</td>\n",
       "      <td>2487.000000</td>\n",
       "      <td>1870.000000</td>\n",
       "      <td>1891.500000</td>\n",
       "      <td>1862.000000</td>\n",
       "      <td>1890.500000</td>\n",
       "      <td>...</td>\n",
       "      <td>784.799988</td>\n",
       "      <td>787.799988</td>\n",
       "      <td>930806.0</td>\n",
       "      <td>787.799988</td>\n",
       "      <td>8700.500000</td>\n",
       "      <td>8785.900391</td>\n",
       "      <td>8694.599609</td>\n",
       "      <td>8767.799805</td>\n",
       "      <td>8.359758e+08</td>\n",
       "      <td>8749.433268</td>\n",
       "    </tr>\n",
       "    <tr>\n",
       "      <th>2025-02-11</th>\n",
       "      <td>2477.500000</td>\n",
       "      <td>2487.500000</td>\n",
       "      <td>2403.952881</td>\n",
       "      <td>2441.000000</td>\n",
       "      <td>3139828</td>\n",
       "      <td>2444.150960</td>\n",
       "      <td>1893.000000</td>\n",
       "      <td>1914.500000</td>\n",
       "      <td>1887.959961</td>\n",
       "      <td>1908.500000</td>\n",
       "      <td>...</td>\n",
       "      <td>780.799988</td>\n",
       "      <td>785.799988</td>\n",
       "      <td>2051076.0</td>\n",
       "      <td>785.092651</td>\n",
       "      <td>8767.799805</td>\n",
       "      <td>8789.599609</td>\n",
       "      <td>8750.500000</td>\n",
       "      <td>8777.400391</td>\n",
       "      <td>9.007291e+08</td>\n",
       "      <td>8772.500000</td>\n",
       "    </tr>\n",
       "    <tr>\n",
       "      <th>2025-02-12</th>\n",
       "      <td>2450.500000</td>\n",
       "      <td>2470.000000</td>\n",
       "      <td>2412.000000</td>\n",
       "      <td>2438.000000</td>\n",
       "      <td>6491756</td>\n",
       "      <td>2440.000000</td>\n",
       "      <td>1914.500000</td>\n",
       "      <td>1925.000000</td>\n",
       "      <td>1897.000000</td>\n",
       "      <td>1899.500000</td>\n",
       "      <td>...</td>\n",
       "      <td>770.820007</td>\n",
       "      <td>778.000000</td>\n",
       "      <td>2887468.0</td>\n",
       "      <td>780.340007</td>\n",
       "      <td>8777.400391</td>\n",
       "      <td>8810.599609</td>\n",
       "      <td>8759.400391</td>\n",
       "      <td>8807.400391</td>\n",
       "      <td>8.530973e+08</td>\n",
       "      <td>8792.466797</td>\n",
       "    </tr>\n",
       "    <tr>\n",
       "      <th>2025-02-13</th>\n",
       "      <td>2486.500000</td>\n",
       "      <td>2509.500000</td>\n",
       "      <td>2438.500000</td>\n",
       "      <td>2465.000000</td>\n",
       "      <td>1310812</td>\n",
       "      <td>2471.000000</td>\n",
       "      <td>1918.000000</td>\n",
       "      <td>1928.000000</td>\n",
       "      <td>1899.500000</td>\n",
       "      <td>1913.000000</td>\n",
       "      <td>...</td>\n",
       "      <td>777.799988</td>\n",
       "      <td>780.400024</td>\n",
       "      <td>1679138.0</td>\n",
       "      <td>785.466675</td>\n",
       "      <td>8807.400391</td>\n",
       "      <td>8820.900391</td>\n",
       "      <td>8729.599609</td>\n",
       "      <td>8764.700195</td>\n",
       "      <td>8.739815e+08</td>\n",
       "      <td>8771.733398</td>\n",
       "    </tr>\n",
       "    <tr>\n",
       "      <th>2025-02-14</th>\n",
       "      <td>2487.500000</td>\n",
       "      <td>2532.500000</td>\n",
       "      <td>2446.000000</td>\n",
       "      <td>2463.000000</td>\n",
       "      <td>1547149</td>\n",
       "      <td>2480.500000</td>\n",
       "      <td>1916.000000</td>\n",
       "      <td>1919.000000</td>\n",
       "      <td>1904.379028</td>\n",
       "      <td>1905.500000</td>\n",
       "      <td>...</td>\n",
       "      <td>772.400024</td>\n",
       "      <td>772.400024</td>\n",
       "      <td>2915071.0</td>\n",
       "      <td>775.333354</td>\n",
       "      <td>8764.700195</td>\n",
       "      <td>8767.700195</td>\n",
       "      <td>8717.500000</td>\n",
       "      <td>8732.500000</td>\n",
       "      <td>9.004862e+08</td>\n",
       "      <td>8739.233398</td>\n",
       "    </tr>\n",
       "  </tbody>\n",
       "</table>\n",
       "<p>3820 rows × 396 columns</p>\n",
       "</div>"
      ],
      "text/plain": [
       "             AAL.L_Open   AAL.L_High    AAL.L_Low  AAL.L_Close  AAL.L_Volume  \\\n",
       "Date                                                                           \n",
       "2010-01-04  2670.318057  2754.028666  2670.318057  2743.626709       4164079   \n",
       "2010-01-05  2764.926829  2818.422214  2745.608971  2788.702637       3311101   \n",
       "2010-01-06  2803.562614  2847.151473  2790.683960  2836.749512       4879684   \n",
       "2010-01-07  2836.254307  2843.684141  2789.198127  2817.431641       4302158   \n",
       "2010-01-08  2822.385150  2869.936768  2789.198251  2869.936768       3425419   \n",
       "...                 ...          ...          ...          ...           ...   \n",
       "2025-02-10  2458.500000  2514.500000  2444.000000  2502.500000       1125188   \n",
       "2025-02-11  2477.500000  2487.500000  2403.952881  2441.000000       3139828   \n",
       "2025-02-12  2450.500000  2470.000000  2412.000000  2438.000000       6491756   \n",
       "2025-02-13  2486.500000  2509.500000  2438.500000  2465.000000       1310812   \n",
       "2025-02-14  2487.500000  2532.500000  2446.000000  2463.000000       1547149   \n",
       "\n",
       "             AAL.L_Vwap   ABF.L_Open   ABF.L_High    ABF.L_Low  ABF.L_Close  \\\n",
       "Date                                                                          \n",
       "2010-01-04  2722.657811   817.560604   824.045221   815.565337   820.054688   \n",
       "2010-01-05  2784.244607   819.555579   820.553212   815.565047   819.056763   \n",
       "2010-01-06  2824.861648   819.056898   822.049798   815.565182   818.059265   \n",
       "2010-01-07  2816.771303   817.560530   843.997814   816.064080   836.515564   \n",
       "2010-01-08  2843.023929   837.014496   851.978998   837.014496   847.988464   \n",
       "...                 ...          ...          ...          ...          ...   \n",
       "2025-02-10  2487.000000  1870.000000  1891.500000  1862.000000  1890.500000   \n",
       "2025-02-11  2444.150960  1893.000000  1914.500000  1887.959961  1908.500000   \n",
       "2025-02-12  2440.000000  1914.500000  1925.000000  1897.000000  1899.500000   \n",
       "2025-02-13  2471.000000  1918.000000  1928.000000  1899.500000  1913.000000   \n",
       "2025-02-14  2480.500000  1916.000000  1919.000000  1904.379028  1905.500000   \n",
       "\n",
       "            ...   WPP.L_Low  WPP.L_Close  WPP.L_Volume  WPP.L_Vwap  \\\n",
       "Date        ...                                                      \n",
       "2010-01-04  ...  595.866205   613.772034     2488786.0  608.135013   \n",
       "2010-01-05  ...  601.337429   603.326965     4222534.0  606.808654   \n",
       "2010-01-06  ...  599.845311   608.300842     3103577.0  605.482332   \n",
       "2010-01-07  ...  603.326872   612.279785     2573495.0  609.627070   \n",
       "2010-01-08  ...  612.777292   622.724976     5187236.0  619.906465   \n",
       "...         ...         ...          ...           ...         ...   \n",
       "2025-02-10  ...  784.799988   787.799988      930806.0  787.799988   \n",
       "2025-02-11  ...  780.799988   785.799988     2051076.0  785.092651   \n",
       "2025-02-12  ...  770.820007   778.000000     2887468.0  780.340007   \n",
       "2025-02-13  ...  777.799988   780.400024     1679138.0  785.466675   \n",
       "2025-02-14  ...  772.400024   772.400024     2915071.0  775.333354   \n",
       "\n",
       "             ^FTSE_Open   ^FTSE_High    ^FTSE_Low  ^FTSE_Close  ^FTSE_Volume  \\\n",
       "Date                                                                           \n",
       "2010-01-04  5412.899902  5500.299805  5410.799805  5500.299805  7.509420e+08   \n",
       "2010-01-05  5500.299805  5536.399902  5480.700195  5522.500000  1.149301e+09   \n",
       "2010-01-06  5522.500000  5536.500000  5497.700195  5530.000000  9.982953e+08   \n",
       "2010-01-07  5530.000000  5551.700195  5499.799805  5526.700195  1.162934e+09   \n",
       "2010-01-08  5526.700195  5549.299805  5494.799805  5534.200195  1.006421e+09   \n",
       "...                 ...          ...          ...          ...           ...   \n",
       "2025-02-10  8700.500000  8785.900391  8694.599609  8767.799805  8.359758e+08   \n",
       "2025-02-11  8767.799805  8789.599609  8750.500000  8777.400391  9.007291e+08   \n",
       "2025-02-12  8777.400391  8810.599609  8759.400391  8807.400391  8.530973e+08   \n",
       "2025-02-13  8807.400391  8820.900391  8729.599609  8764.700195  8.739815e+08   \n",
       "2025-02-14  8764.700195  8767.700195  8717.500000  8732.500000  9.004862e+08   \n",
       "\n",
       "             ^FTSE_Vwap  \n",
       "Date                     \n",
       "2010-01-04  5470.466471  \n",
       "2010-01-05  5513.200033  \n",
       "2010-01-06  5521.400065  \n",
       "2010-01-07  5526.066732  \n",
       "2010-01-08  5526.099935  \n",
       "...                 ...  \n",
       "2025-02-10  8749.433268  \n",
       "2025-02-11  8772.500000  \n",
       "2025-02-12  8792.466797  \n",
       "2025-02-13  8771.733398  \n",
       "2025-02-14  8739.233398  \n",
       "\n",
       "[3820 rows x 396 columns]"
      ]
     },
     "execution_count": 10,
     "metadata": {},
     "output_type": "execute_result"
    }
   ],
   "source": [
    "import pandas as pd\n",
    "df = pd.read_csv(\"ftse100_data_wide.csv\", index_col=0, parse_dates=True)\n",
    "df"
   ]
  }
 ],
 "metadata": {
  "kernelspec": {
   "display_name": "ds_rl",
   "language": "python",
   "name": "python3"
  },
  "language_info": {
   "codemirror_mode": {
    "name": "ipython",
    "version": 3
   },
   "file_extension": ".py",
   "mimetype": "text/x-python",
   "name": "python",
   "nbconvert_exporter": "python",
   "pygments_lexer": "ipython3",
   "version": "3.11.11"
  }
 },
 "nbformat": 4,
 "nbformat_minor": 2
}
